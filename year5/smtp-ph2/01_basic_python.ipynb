{
 "cells": [
  {
   "cell_type": "markdown",
   "metadata": {
    "id": "xuA4nXNj-q2p"
   },
   "source": [
    "# Introduction to Scientific Programming\n",
    "\n",
    "In this course, no installation of Python is required - instead, we will use Google Colaboratory (Colab), and run Python off Google's servers. Before we start, you'll need to log into a Google account, and **either create a new file in Google Colab or make a copy of this file.** As this file is shared with you with read-only permissions, changes made will not be saved (i.e. you will lose all your code).\n",
    "\n",
    "If you wish to run Python directly off your laptop, let me know, and I will assist you in installing it to your laptop. Then you can keep this browser tab open for reference, or download it and run it as a Jupyter notebook (.ipynb file).\n",
    "\n",
    "### Reference texts\n",
    "*   Hall and Stacey, _Python 3 for Absolute Beginners_. A good introductory text to Python programming in general, not specifically geared toward scientific programming.\n",
    "*   Stephanson, _The Python Workbook_. An excellent way to learn programming is by coding. This book consists of programming tasks, categorised by concepts, and comes with solutions. If you already have prior experience programming, you can do the problems here as revision while I go through the basics with everyone else.\n",
    "\n",
    "### Helpful resources\n",
    "*   Sites like [W3Schools](https://www.w3schools.com/python/default.asp) which have step-by-step bite-sized tutorials.\n",
    "*   The Internet in general - particularly forums like [Stack Overflow](https://stackoverflow.com/). Any problem you encounter has likely been encountered before by someone else, who has already posted on a forum like Stack Overflow. You can usually modify the solutions given to fit your needs, even if you only have a general idea how the solution works.  \n",
    "*   [ChatGPT](https://chatgpt.com/). Since it was trained on internet data, including Stack Overflow, it is particularly good at coding up to moderate complexity. But if you're working on anything particularly niche, it will be of limited help.\n",
    "\n"
   ]
  },
  {
   "cell_type": "markdown",
   "metadata": {
    "id": "2jBabpQV-zXe"
   },
   "source": [
    "# Session 1: Basic Python\n",
    "In this session we will cover:\n",
    "\n",
    "*   The Python Language\n",
    "*   Variables, Data Types, and Basic Operations\n",
    "  *   Basic operations\n",
    "  *   Integers and Floats\n",
    "  * _Exercise 1: Addition_\n",
    "  *   Strings\n",
    "  * _Exercise 2: Greeting_\n",
    "  * Determining variable types\n",
    "  * Lists\n",
    "  * Dictionaries\n",
    "  * Booleans and NoneTypes\n",
    "*   Functions\n",
    "  * _Exercise 3: Area of Rectangle_\n",
    "  * _Exercise 4: Quadractic equation_\n",
    "*   If/Else conditionals\n",
    "   *   _Exercise 5: Even or Odd?_\n",
    "   *   _Exercise 6: Leap Year_\n",
    "*   For loops and While loops\n",
    "   *   _Exercise 7: Sum of natural numbers_\n",
    "   *   _Exercise 8: Prime or not prime?_\n",
    "\n",
    "<u> References </u>\n",
    "*   The Python Workbook"
   ]
  },
  {
   "cell_type": "markdown",
   "metadata": {
    "id": "3tPh2yXbAZQG"
   },
   "source": [
    "## 1.1 The Python Language\n",
    "[Python](https://www.python.org/) is a popular programming language among scientists today, because of its versatility (thanks to its many libraries), and to its readability (which makes it quick and easy to learn).\n",
    "\n",
    "### 1.1.1 How computer programs work:\n",
    "\n",
    "1.   The code is _compiled_ by a __compiler__, which converts the code into a machine language (binary), which is sent to the CPU\n",
    "2.   The CPU executes the binary commands, and returns a result (also in binary) to the compiler.\n",
    "3.   If necessary, the compiler interprets this result and displays it to the user.\n",
    "\n",
    "In many programming languages, the code is compiled all at once, then sent to the CPU to be executed. However, in Python, the code is compiled and run _one line at a time,_ starting from the top. This is called __just-in-time compilation,__ and languages like Python who use this kind of compilation are called __interpreted languages__.\n",
    "\n",
    "Python can be run from the command line (Windows: Command Prompt or Powershell; Mac: Terminal), or in an \"interactive shell\"/kernal as part of a code editor.\n",
    "\n",
    "### 1.1.2 About Google Colaboratory\n",
    "\n",
    "Google Colaboratory, often referred to as Colab, is an online platform that provides a free and convenient way to write and execute Python code. It is especially popular for its integration with Google Drive. By using Google Colaboratory, you can write and run Python code without the need for any installations on your local machine, making it an accessible and convenient platform for learning and working with Python.\n",
    "\n",
    "Python code can be written in __scripts__ or in [__notebooks__](https://en.wikipedia.org/wiki/Notebook_interface), and the notebook format is popular with scientists. This Google Colaboratory (aka Colab) document you are reading is an example of a notebook!\n",
    "\n",
    "*   A notebook is an interactive document that combines code, text, and visualizations. It allows you to write and execute Python code in chunks called \"cells\", rather than re-executing the whole program from the top every time you change something.\n",
    "*   Every Colab notebook is associated with a Python runtime environment, which is referred to as the __kernel__. The kernel is responsible for executing the code. If you restart the kernel, it clears all variables and resets the environment.\n",
    "\n",
    "\n",
    "### 1.1.3 Alternatives to Google Colab\n",
    "The notebook style of programming can also be done in [Jupyter](https://jupyter.org/) - a Jupyter notebook opens in your browser, and runs directly off your machine rather than Google's servers (and is therefore faster).\n",
    "\n",
    "If you prefer a more traditional script-based approach, there are special text editors that programmers use, although any text editor will work. Here are some examples:\n",
    "*  [Visual Studio Code](https://code.visualstudio.com/): widely used by programmers for many different programming languages. It can also support notebook programming.\n",
    "*  [PyCharm](https://www.jetbrains.com/pycharm/): An editor popular amongst Python programmers, for use with Python only.\n",
    "*  [Spyder](https://www.spyder-ide.org/): An editor commonly used by scientists. Its interface loosely resembles MATLAB's.\n",
    "\n",
    "For convenience, in this module we will stick with Colab, but if you are working on a project you should definitely consider running Python code directly off your computer.\n",
    "\n",
    "### 1.1.4 How to use these notes\n",
    "You can use these as a reference, while playing around with code in a different Colab notebook (or a python file on your computer, if you have installed python)\n",
    "\n",
    "### 1.1.5 (Optional) Installing Python\n",
    "Python can be easily installed by going to their [website](https://www.python.org/) and downloading the latest version. During installation, it is recommended that you check the box to \"Add Python to PATH\", which makes it easier when running Python from your computer's command prompt.\n",
    "\n",
    "Once installed, you will need to install a code editor of your choice, such as the aforementioned Visual Studio Code. Some of these can be conveniently installed using Python's package installer, called ```pip```. If Python has been added to PATH, you can simply run a command to install the package in the command line, and pip does the rest. For example, to install Jupyter, you could run this command:\n",
    "\n",
    "```\n",
    "pip install jupyterlab\n",
    "```"
   ]
  },
  {
   "cell_type": "markdown",
   "metadata": {
    "id": "aNzI1gTa8_fI"
   },
   "source": [
    "## 1.2 Variables, Data Types, and Basic Operations\n"
   ]
  },
  {
   "cell_type": "markdown",
   "metadata": {
    "id": "u9dL0ff6F18B"
   },
   "source": [
    "### 1.2.1 Basic Operations\n",
    "Traditionally, the first operation taught in computing courses around the world is to get the code to print the phrase \"hello world!\" to the output. In Python, this is really easy: just type ```print(\"hello world!\")``` (__remember the quotation marks!__ Whether you use single or double quotes doesn't matter) in the cell below and click on the \"play\" button on the left margin. If you don't see the \"play\" button, hover your cursor over the code cell first.\n",
    "\n",
    "Modify the text to something else, and run the cell again (click the play button again)"
   ]
  },
  {
   "cell_type": "code",
   "execution_count": null,
   "metadata": {
    "colab": {
     "base_uri": "https://localhost:8080/"
    },
    "executionInfo": {
     "elapsed": 2,
     "status": "ok",
     "timestamp": 1699601147687,
     "user": {
      "displayName": "Peter Bruce Gale",
      "userId": "02067519220349755138"
     },
     "user_tz": -480
    },
    "id": "F41jq-WlF1To",
    "outputId": "9c290923-77d7-4bfa-af98-deb1c33d67a9"
   },
   "outputs": [],
   "source": [
    "print(\"hello world!\")"
   ]
  },
  {
   "cell_type": "markdown",
   "metadata": {
    "id": "Lk9hAmWAUWYV"
   },
   "source": [
    "If you just typed `hello world` without any quotations, you'll get an error."
   ]
  },
  {
   "cell_type": "code",
   "execution_count": null,
   "metadata": {
    "colab": {
     "base_uri": "https://localhost:8080/",
     "height": 106
    },
    "executionInfo": {
     "elapsed": 8,
     "status": "error",
     "timestamp": 1714016110820,
     "user": {
      "displayName": "Peter Bruce Gale",
      "userId": "02067519220349755138"
     },
     "user_tz": -480
    },
    "id": "sM0qcdNAUf4-",
    "outputId": "4b4fbb1d-7008-452c-97fd-71dcaf0e7b47"
   },
   "outputs": [],
   "source": [
    "# hello world"
   ]
  },
  {
   "cell_type": "markdown",
   "metadata": {
    "id": "oBevTc37Uhvd"
   },
   "source": [
    "If you typed `\"hello world\"` with the quotation marks, but without the `print()` command, Python will still evaluate that, but in a tradition script-based progamming paradigm, nothing will happen. In a notebook programming paradigm (like this Google Colab file), the notebook will automatically display the result of the last evaluation, even if no `print()` command is given. As you're learning programming for the first time, it's a good habit to always explicitly `print()` if you want it to appear."
   ]
  },
  {
   "cell_type": "code",
   "execution_count": null,
   "metadata": {
    "colab": {
     "base_uri": "https://localhost:8080/",
     "height": 35
    },
    "executionInfo": {
     "elapsed": 292,
     "status": "ok",
     "timestamp": 1714016301391,
     "user": {
      "displayName": "Peter Bruce Gale",
      "userId": "02067519220349755138"
     },
     "user_tz": -480
    },
    "id": "XlM62fMPVRbh",
    "outputId": "340c0c27-ba81-4e33-88b2-73c0ec2fe6a3"
   },
   "outputs": [],
   "source": [
    "\"hello world\""
   ]
  },
  {
   "cell_type": "markdown",
   "metadata": {
    "id": "juEdO5P-G4T4"
   },
   "source": [
    "It is good practice to annotate your code so that other people can understand it - these are called __comments__. The computer will ignore all the content in comments. In Python, comments are indicated with a ```#```. If there is a big block of comments, instead of starting each line with a ```#```, we can sandwich the block with ```'''``` or ```\"\"\"```"
   ]
  },
  {
   "cell_type": "code",
   "execution_count": null,
   "metadata": {
    "colab": {
     "base_uri": "https://localhost:8080/"
    },
    "executionInfo": {
     "elapsed": 6,
     "status": "ok",
     "timestamp": 1699601221468,
     "user": {
      "displayName": "Peter Bruce Gale",
      "userId": "02067519220349755138"
     },
     "user_tz": -480
    },
    "id": "VSLNSSaVHMJX",
    "outputId": "e29f604d-1b34-4806-cc20-5ddc3575afaf"
   },
   "outputs": [],
   "source": [
    "# This is a comment.\n",
    "\"\"\"\n",
    "This is a multi-line comment (or comment block)\n",
    "We don't need to start each line with a #.\n",
    "This is handy if you have a lot to say.\n",
    "It's also used when defining functions to explain what they do (more on that later)\n",
    "\"\"\"\n",
    "# print(\"Code in comments will not be executed.\")\n",
    "print(\"Only code outside comments are executed.\")"
   ]
  },
  {
   "cell_type": "markdown",
   "metadata": {
    "id": "ncXdmlL8Xcjg"
   },
   "source": [
    "To get input from the user, we can use the `input()` function. Try it!"
   ]
  },
  {
   "cell_type": "code",
   "execution_count": null,
   "metadata": {
    "colab": {
     "base_uri": "https://localhost:8080/"
    },
    "executionInfo": {
     "elapsed": 2362,
     "status": "ok",
     "timestamp": 1713933253997,
     "user": {
      "displayName": "Peter Bruce Gale",
      "userId": "02067519220349755138"
     },
     "user_tz": -480
    },
    "id": "xF4BTNaUXi3u",
    "outputId": "79c46a78-d3d0-4be9-dcb3-fe84e4dcaefa"
   },
   "outputs": [],
   "source": [
    "print(\"Type something:\")\n",
    "answer = input()\n",
    "print(\"You typed:\")\n",
    "print(answer)"
   ]
  },
  {
   "cell_type": "markdown",
   "metadata": {
    "id": "94ZDxtxNEJYD"
   },
   "source": [
    "### 1.2.2 Integers and Floats\n",
    "In Python, variables are used to store data values. Each variable has a specific data type, which determines the kind of data it can hold.\n",
    "\n",
    "A variable is assigned using the ```=``` character. By common convention among Python programmers, variable names are __lowercase__, and if the name consists of multiple words, we join them together using __underscores__, e.g. `this_is_a_variable_name`. (In other programming languages, _camel case_ may be preferred, i.e. `ThisIsAVariableName`, but this is discouraged in Python.) Not following conventions will not cause code errors, but it does make it harder for someone else to understand your code.\n",
    "\n",
    "__Integer (int)__: Represents whole numbers without any decimal point. For example:\n",
    "```\n",
    "age = 25\n",
    "```\n",
    "\n",
    "__Float (float)__: Represents numbers with decimal points. For example:\n",
    "```\n",
    "height = 5.8\n",
    "weight = 65.0\n",
    "```"
   ]
  },
  {
   "cell_type": "markdown",
   "metadata": {
    "id": "7_DsPiuDTgUf"
   },
   "source": [
    "### Exercise 1: Addition\n",
    "Define `a` and `b` to be two numbers of your choice.\n",
    "\n",
    "Write a program that adds two numbers together and prints the result. Change `a` and `b`, and run the program again. What happens if one is an `int` and the other is a `float`?"
   ]
  },
  {
   "cell_type": "code",
   "execution_count": null,
   "metadata": {
    "id": "uSkIRAAAWkCt"
   },
   "outputs": [],
   "source": [
    "# Code for Exercise 1\n",
    "a = 3\n",
    "b = 2  # int\n",
    "c = 2.78  # float\n",
    "\n",
    "print(f\"{a + b}, {type(a + b)}\")\n",
    "print(f\"{a + c}, {type(a + c)}\")"
   ]
  },
  {
   "cell_type": "markdown",
   "metadata": {
    "id": "0mcZ_S_UWfkD"
   },
   "source": [
    "The following mathematical operations can be performed on integers and floats:\n",
    "\n",
    "|Operation|Symbol|Example|\n",
    "|---------|------|-------|\n",
    "|Addition|`+`|`7 + 6`|\n",
    "|Subtraction|`-`|`2 - 6`|\n",
    "|Multiplication|`*`|`4 * 2`|\n",
    "|Exponent|`**`|`4 ** 2`|\n",
    "|Division|`/`|`7 / 6`|\n",
    "|Floor Division|`//`|`7 // 6`|\n",
    "|Modulo|`%`|`7 % 6`|\n",
    "\n",
    "What do Floor Division and Modulo do? Try it out by experimenting with code in the cell below:"
   ]
  },
  {
   "cell_type": "code",
   "execution_count": null,
   "metadata": {
    "id": "zM20P6l9FiMA"
   },
   "outputs": [],
   "source": [
    "7 // 6"
   ]
  },
  {
   "cell_type": "markdown",
   "metadata": {
    "id": "rZYgAmMkSIJB"
   },
   "source": [
    "### 1.2.3 Strings\n",
    "__String (str)__: Represents text or characters. Strings are enclosed in single or double quotes. For example:\n",
    "```\n",
    "name = 'John'\n",
    "description = \"John is 12 years old.\"\n",
    "```\n",
    "It doesn't matter if you use single or double quotes, but you should be consistent. E.g. `\"John is 12 years old.'` would not work because you started with `\"` but ended with `'`.\n",
    "\n",
    "You can combine two strings together using the ```+``` operator. Try ```\"My name is \" + \"John.\"```\n",
    "\n",
    "You can also repeat a string using the ```*``` operator. Try ```\"abc\"*3```"
   ]
  },
  {
   "cell_type": "code",
   "execution_count": null,
   "metadata": {
    "colab": {
     "base_uri": "https://localhost:8080/"
    },
    "executionInfo": {
     "elapsed": 462,
     "status": "ok",
     "timestamp": 1700037308154,
     "user": {
      "displayName": "Peter Bruce Gale",
      "userId": "02067519220349755138"
     },
     "user_tz": -480
    },
    "id": "6ffoveS-SjXQ",
    "outputId": "1859fb51-414f-4382-c879-bd9cd4036732"
   },
   "outputs": [],
   "source": [
    "print(\"My name is \" + \"John.\")\n",
    "print(\"abc\" * 3)"
   ]
  },
  {
   "cell_type": "markdown",
   "metadata": {
    "id": "lbDUkm6PS-6n"
   },
   "source": [
    "### Exercise 2: Greeting\n",
    "Write a program that stores the name of the user in a variable called ```username```, and prints a greeting to the user.\n",
    "\n",
    "After you run the program once, change the name of the user and run it again to see if it changes appropriately."
   ]
  },
  {
   "cell_type": "code",
   "execution_count": null,
   "metadata": {
    "id": "4ww8YiG_VDjs"
   },
   "outputs": [],
   "source": [
    "# Code for Exercise 2\n",
    "username = input(\"hi! what's your name? \")\n",
    "print(f\"salutations {username}!\")"
   ]
  },
  {
   "cell_type": "markdown",
   "metadata": {
    "id": "wb-flQsREJXN"
   },
   "source": [
    "### 1.2.4 Variables: Determining variable types\n",
    "\n",
    "> <u>Example</u> What is are the types of the following variables?\n",
    "```\n",
    "first_var = 12\n",
    "second_var = 12.0\n",
    "third_var = \"12\"\n",
    "```\n",
    "> <details>\n",
    "    <summary>Solution</summary>\n",
    "    <code>first_var: int <br>\n",
    "    second_var: float <br>\n",
    "    third_var: string </code>\n",
    "> </details>\n",
    "\n",
    "If you're stuck, you can check the type of a variable using the ```type()``` function. For example, you can run this code to find out the type of ```first_var```:\n",
    "\n",
    "\n"
   ]
  },
  {
   "cell_type": "code",
   "execution_count": null,
   "metadata": {
    "id": "vuciyrabRwM2"
   },
   "outputs": [],
   "source": [
    "first_var = 12\n",
    "print(type(first_var))"
   ]
  },
  {
   "cell_type": "markdown",
   "metadata": {
    "id": "1e6SKxXGTsUf"
   },
   "source": [
    "To change the type of a variable, we can use functions like these:\n",
    "```\n",
    "number = 15.0 # this is a float\n",
    "integer = int(number)\n",
    "print(type(integer))\n",
    "```\n",
    "Try changing the type of an integer or a float to a string, and vice versa!!"
   ]
  },
  {
   "cell_type": "code",
   "execution_count": null,
   "metadata": {
    "id": "Y10DZtPmUk7o"
   },
   "outputs": [],
   "source": [
    "# Try changing the type of an integer or a float to a string, and vice versa!\n",
    "n = 5  # int\n",
    "print(f\"{n}, {type(n)}\")\n",
    "n = float(n)\n",
    "print(f\"{n}, {type(n)}\")\n",
    "n = str(n)\n",
    "print(f\"{n}, {type(n)}\")"
   ]
  },
  {
   "cell_type": "markdown",
   "metadata": {
    "id": "UWP4AYebQUJX"
   },
   "source": [
    "### 1.2.5 Lists\n",
    "__List__: Represents an ordered collection of elements. Elements can be of any data type, including other lists. For example:\n",
    "```\n",
    "list_of_ints = [3, 56, 12, 8]\n",
    "list_of_numbers = [0.344, 54, 67.2]\n",
    "list_of_strings = [\"Bob\", \"Tom\", \"Lunch\"]\n",
    "list_of_lists = [[0,0], [1,1], [2,4], [3,9]]\n",
    "```\n",
    "To retrieve elements from a list, we specify the __index__ of the element inside square brackets <code>[ ]</code> behind the list, e.g. ` list_of_ints[0] `. Lists in Python are __zero-indexed__, i.e. the index of the first element is 0.\n",
    "\n",
    "To get the number of elements in a list, we can use the `len()` function:\n",
    "```\n",
    "len(list_of_ints)\n",
    "```\n",
    "\n",
    "Here's a list. Practice obtaining elements from it (i.e. print `\"first\"`, `\"second\"`, or `\"third\"`). Get the length of the list, and see if it changes when you change the number of elements in the list."
   ]
  },
  {
   "cell_type": "code",
   "execution_count": null,
   "metadata": {
    "colab": {
     "base_uri": "https://localhost:8080/"
    },
    "executionInfo": {
     "elapsed": 8,
     "status": "ok",
     "timestamp": 1700037248602,
     "user": {
      "displayName": "Peter Bruce Gale",
      "userId": "02067519220349755138"
     },
     "user_tz": -480
    },
    "id": "0GBUDgzcXu2S",
    "outputId": "55c41619-b85b-4ff4-a898-464604eb25de"
   },
   "outputs": [],
   "source": [
    "sample_list = [\"first\", \"second\", \"third\"]\n",
    "print(sample_list[0])\n",
    "print(\"The length of this list is \" + str(len(sample_list)))"
   ]
  },
  {
   "cell_type": "markdown",
   "metadata": {
    "id": "rg1CPiewWo8f"
   },
   "source": [
    "To change the value of an element in a list, refer to the index number and assign the new value:\n",
    "```\n",
    "sample_list = [\"first\", \"second\", \"third\"]\n",
    "sample_list[1] = \"fourth\"\n",
    "print(sample_list)\n",
    "```"
   ]
  },
  {
   "cell_type": "markdown",
   "metadata": {
    "id": "FchPnTGMFPip"
   },
   "source": [
    "To add more elements to a list, we can use the `append()` function (or the `+` operator) to add it to the end of the list. Try it!"
   ]
  },
  {
   "cell_type": "code",
   "execution_count": null,
   "metadata": {
    "colab": {
     "base_uri": "https://localhost:8080/"
    },
    "executionInfo": {
     "elapsed": 317,
     "status": "ok",
     "timestamp": 1700473041402,
     "user": {
      "displayName": "Peter Bruce Gale",
      "userId": "02067519220349755138"
     },
     "user_tz": -480
    },
    "id": "7VbTSUKCFZb7",
    "outputId": "0f11d6de-d4ef-4665-fcf4-61b65d2dbfb3"
   },
   "outputs": [],
   "source": [
    "my_list = [5, 6, 7]\n",
    "my_list.append(8)\n",
    "print(my_list)\n",
    "my_list = my_list + [9]  # see note below!\n",
    "print(my_list)\n",
    "# Note: if we had just written my_list + [9] without assigning it back to my_list again,\n",
    "# my_list would be unchanged!"
   ]
  },
  {
   "cell_type": "markdown",
   "metadata": {
    "id": "r6gNB8oiWRRS"
   },
   "source": [
    "If we want to add an item at a specific place in the list, we can use the `insert()` function. Try it!"
   ]
  },
  {
   "cell_type": "code",
   "execution_count": null,
   "metadata": {
    "colab": {
     "base_uri": "https://localhost:8080/"
    },
    "executionInfo": {
     "elapsed": 350,
     "status": "ok",
     "timestamp": 1713932722442,
     "user": {
      "displayName": "Peter Bruce Gale",
      "userId": "02067519220349755138"
     },
     "user_tz": -480
    },
    "id": "Sz0lOezOWcyR",
    "outputId": "3b4ecfb2-f201-4007-90da-7df0f8bed090"
   },
   "outputs": [],
   "source": [
    "thislist = [\"apple\", \"banana\", \"cherry\"]\n",
    "thislist.insert(1, \"orange\")\n",
    "print(thislist)"
   ]
  },
  {
   "cell_type": "markdown",
   "metadata": {
    "id": "GxvRMdYEUnb5"
   },
   "source": [
    "To remove an element from a list, we can use the `remove()` function or the `pop()` function.\n",
    "\n",
    "The `remove()` function removes the first occurance of the element:\n",
    "```\n",
    "thislist = [\"apple\", \"banana\", \"cherry\", \"banana\"]\n",
    "thislist.remove(\"banana\")\n",
    "```\n",
    "The `pop()` function removes the element at the specified index:\n",
    "```\n",
    "thislist = [\"apple\", \"banana\", \"cherry\"]\n",
    "thislist.pop(1)\n",
    "```\n",
    "If the index is not specified, `pop()` removes the last item"
   ]
  },
  {
   "cell_type": "code",
   "execution_count": null,
   "metadata": {
    "id": "dOmEyB3fDibp"
   },
   "outputs": [],
   "source": [
    "# Try it!\n",
    "thislist = [\"apple\", \"banana\", \"cherry\"]\n",
    "thislist.insert(1, \"orange\")\n",
    "print(thislist)"
   ]
  },
  {
   "cell_type": "markdown",
   "metadata": {
    "id": "eDREYlEJXpSz"
   },
   "source": [
    "### 1.2.6 Dictionaries\n",
    "__Dictionary (dict)__: Represents a collection of key-value pairs. For example:\n",
    "```\n",
    "person = {'name': 'John', 'age': 25, 'fav_food': 'chicken rice'}\n",
    "```\n",
    "In this example, `name`, `age`, and `fav_food` are __keys__, and `John`, `25`, and `'chicken rice'` are the corresponding __values__.\n",
    "\n",
    "The value is retrieved by supplying the appropriate key. For example:\n",
    "```\n",
    "person[\"name\"]\n",
    "```\n",
    "Try changing `\"name\"` to `\"fav_food\"` or `\"age\"` and see the result!"
   ]
  },
  {
   "cell_type": "code",
   "execution_count": null,
   "metadata": {
    "colab": {
     "base_uri": "https://localhost:8080/"
    },
    "executionInfo": {
     "elapsed": 4,
     "status": "ok",
     "timestamp": 1712277532445,
     "user": {
      "displayName": "Peter Bruce Gale",
      "userId": "02067519220349755138"
     },
     "user_tz": -480
    },
    "id": "2TgNTZZ1GheP",
    "outputId": "b71fd34c-404c-4189-fff1-7a291a6fae7b"
   },
   "outputs": [],
   "source": [
    "# Experiment with Dictionaries!\n",
    "person = {\"name\": \"John\", \"age\": 25, \"fav_food\": \"chicken rice\"}\n",
    "print(person[\"name\"])"
   ]
  },
  {
   "cell_type": "markdown",
   "metadata": {
    "id": "2y9WcT-czUpU"
   },
   "source": [
    "We can add more entries to an existing dictionary simply by assigning a key to a value:\n",
    "```\n",
    "person['gender'] = 'male'\n",
    "```\n",
    "Try adding some more entries to the dictionary!"
   ]
  },
  {
   "cell_type": "code",
   "execution_count": null,
   "metadata": {
    "colab": {
     "base_uri": "https://localhost:8080/"
    },
    "executionInfo": {
     "elapsed": 12,
     "status": "ok",
     "timestamp": 1714091544343,
     "user": {
      "displayName": "Peter Bruce Gale",
      "userId": "02067519220349755138"
     },
     "user_tz": -480
    },
    "id": "ilR5PoXc0MeT",
    "outputId": "58ba4f80-6762-4164-a230-f4962effd1c7"
   },
   "outputs": [],
   "source": [
    "person = {\"name\": \"John\", \"age\": 25, \"fav_food\": \"chicken rice\"}\n",
    "print(person)\n",
    "person[\"gender\"] = \"male\"\n",
    "print(person)"
   ]
  },
  {
   "cell_type": "markdown",
   "metadata": {
    "id": "rl1fvFSc6IvW"
   },
   "source": [
    "Note: if you're creating a long dictionary / a dictionary with many values, it may be easier to add a new line after each entry, like this:\n",
    "```\n",
    "person = {\n",
    "  'name': 'John',\n",
    "  'age': 25,\n",
    "  'fav_food': 'chicken rice'\n",
    "  }\n",
    "```\n",
    "The code works the same. Likewise for lists:\n",
    "```\n",
    "my_list = [\n",
    "  1,\n",
    "  2,\n",
    "  3,\n",
    "  4,\n",
    "  5\n",
    "]\n",
    "```\n",
    "Or even:\n",
    "```\n",
    "my_list = [1, 2, 3,\n",
    "           4, 5]\n",
    "```"
   ]
  },
  {
   "cell_type": "markdown",
   "metadata": {
    "id": "YRPpuR50r_f6"
   },
   "source": [
    "### 1.2.7 Booleans and NoneTypes\n",
    "__Boolean (bool)__: Represents True or False values, which are used for logical operations. For example:\n",
    "```\n",
    "is_student = True\n",
    "```\n",
    "Booleans are commonly used in `if` blocks to decide if the code should execute (see section 1.4 - Conditionals).\n",
    "\n",
    "Python may also evaluate certain statements to be `True` or `False` as well. For example, `1 > 2` evaluates to `False`.\n"
   ]
  },
  {
   "cell_type": "code",
   "execution_count": null,
   "metadata": {
    "colab": {
     "base_uri": "https://localhost:8080/"
    },
    "executionInfo": {
     "elapsed": 297,
     "status": "ok",
     "timestamp": 1713932521247,
     "user": {
      "displayName": "Peter Bruce Gale",
      "userId": "02067519220349755138"
     },
     "user_tz": -480
    },
    "id": "dz6YtPAjVoL5",
    "outputId": "f161d094-1b1a-4c96-86ce-99750ee68264"
   },
   "outputs": [],
   "source": [
    "print(1 > 2)"
   ]
  },
  {
   "cell_type": "markdown",
   "metadata": {
    "id": "6dtGKwuHVpIJ"
   },
   "source": [
    "__NoneType (None)__: Represents a lack of a value or absence of data. For example:\n",
    "```\n",
    "result = None\n",
    "```"
   ]
  },
  {
   "cell_type": "markdown",
   "metadata": {
    "id": "D88nL3ZrDEVr"
   },
   "source": [
    "## 1.3 Functions"
   ]
  },
  {
   "cell_type": "markdown",
   "metadata": {
    "id": "oJ2n-lL6SDlU"
   },
   "source": [
    "Functions are blocks of reusable code that perform a specific task. They allow us to organize code into manageable and modular pieces.\n",
    "\n",
    ">In Python, a function is defined using the `def` keyword, followed by the function name, parentheses `( )`, and a __colon__ `:`. The code block that belongs to the function is __indented__ (press the `TAB` key).\n",
    "\n",
    "For example:\n",
    "```\n",
    "def greet(name):\n",
    "    print(\"Hello,\", name)\n",
    "```\n",
    "After defining a function, you can call it by using its name followed by parentheses. You can pass values (arguments) to the function within the parentheses.\n",
    "```\n",
    "greet(\"Alice\")\n",
    "```\n",
    "Functions can return a value using the return statement. This allows the function to send a result back to the caller (e.g. to save the result of a function to a variable). For example:\n",
    "```\n",
    "def square(x):\n",
    "    return x * x\n",
    "\n",
    "result = square(5)\n",
    "print(\"Square of 5:\", result)\n",
    "```\n",
    "Let's try a few exercises to apply this idea!"
   ]
  },
  {
   "cell_type": "markdown",
   "metadata": {
    "id": "YFHkPbaWJ9UD"
   },
   "source": [
    "### Exercise 3: Area of Rectangle\n",
    "Create a function called `calculate_area` that takes the length and width of a rectangle as input and returns the area."
   ]
  },
  {
   "cell_type": "code",
   "execution_count": null,
   "metadata": {
    "id": "28hU3D2FKw0d"
   },
   "outputs": [],
   "source": [
    "# Code for Exercise 3\n",
    "def calculate_area(length: float, width: float) -> float:\n",
    "    return length * width\n",
    "\n",
    "\n",
    "calculate_area(5.0, 3.0)"
   ]
  },
  {
   "cell_type": "markdown",
   "metadata": {
    "id": "ej4ajICUK2vW"
   },
   "source": [
    "### Exercise 4: Quadratic equation\n",
    "Create a function called `quadratic` that takes an x-value as an input, and returns the y-value of $y = x^2 -3x -4$"
   ]
  },
  {
   "cell_type": "code",
   "execution_count": null,
   "metadata": {
    "id": "6uu_pz3WK18F"
   },
   "outputs": [],
   "source": [
    "# Code for Exercise 4\n",
    "def quadratic(x: float) -> float:\n",
    "    return x**2 - x * 3 - 4"
   ]
  },
  {
   "cell_type": "markdown",
   "metadata": {
    "id": "2txU5Bu8Cu3h"
   },
   "source": [
    "## 1.4 Conditionals (If, Else)"
   ]
  },
  {
   "cell_type": "markdown",
   "metadata": {
    "id": "RwNveD2nLZv5"
   },
   "source": [
    "Conditional statements allow the program to make decisions based on certain conditions. This is crucial for controlling the flow of a program and executing different blocks of code depending on whether a condition is met or not. The `if` statement is used to execute a block of code only if a specified condition is true. Just like functions, the first line ends with a colon, and the actions to be taken are indented:\n",
    "\n",
    "> `if` (condition) `:` \\\\\n",
    "> [TAB] (actions)\n",
    "\n",
    "For example:\n",
    "```\n",
    "age = 18\n",
    "if age >= 18:\n",
    "    print(\"You are an adult\")\n",
    "```\n",
    "Again, note how it is written: `if` is followed by a condition (`age >= 18`) and then a colon `:`, and the action(s) to be taken are indented.\n",
    "\n",
    "The `else` statement is used to execute a block of code if the `if` condition is not met.\n",
    "```\n",
    "age = 15\n",
    "if age >= 18:\n",
    "    print(\"You are an adult\")\n",
    "else:\n",
    "    print(\"You are a minor\")\n",
    "```\n",
    "Again, note the colon `:` after the `else` keyword. An `if` statement need not be followed by an `else` statement, but an `else` statement must be preceeded by an `if` statement.\n",
    "\n",
    "The `elif` statement allows you to specify multiple conditions to check. Its syntax is similar to the `if` statement\n",
    "```\n",
    "score = 85\n",
    "if score >= 70:\n",
    "    print(\"Grade: A\")\n",
    "elif score >= 60:\n",
    "    print(\"Grade: B\")\n",
    "else:\n",
    "    print(\"Grade: C\")\n",
    "```\n",
    "The `if`/`else` block is particularly useful in functions. For example:\n",
    "```\n",
    "def minimum(x,y):\n",
    "  \"\"\"\n",
    "  Returns the minimum of two numbers x and y.\n",
    "  If they are equal, returns None.\n",
    "  \"\"\"\n",
    "  if x > y:\n",
    "    return x\n",
    "  elif x < y:\n",
    "    return y\n",
    "  else: # both are equal\n",
    "    return None\n",
    "```\n",
    "(In the above example, the triple quotes ` \"\"\" ` indicate a multiline comment, often used to explain how a function works or what it does.)\n",
    "\n",
    "If there are multiple conditions that must be satisfied at the same time, we can use `or` and `and`. Consider this simple example of a function to determine if a letter is a vowel or not:\n",
    "```\n",
    "def is_vowel(letter):\n",
    "  if letter == \"a\" or letter == \"e\" or letter == \"i\" or \"letter\" = \"o\" or letter == \"u\":\n",
    "    return True\n",
    "  else:\n",
    "    return False\n",
    "```"
   ]
  },
  {
   "cell_type": "markdown",
   "metadata": {
    "id": "oJDm4E5trSsr"
   },
   "source": [
    "### Exercise 5: Even or Odd?\n",
    "Write a function `is_odd` that takes an integer, and returns `True` if it is odd, and `False` if it is even."
   ]
  },
  {
   "cell_type": "code",
   "execution_count": null,
   "metadata": {
    "id": "L2Jd_gzwrR9C"
   },
   "outputs": [],
   "source": [
    "# Code for Exercise 5\n",
    "def is_odd(num: int) -> bool:\n",
    "    return bool(num % 2)\n",
    "\n",
    "\n",
    "is_odd(2), is_odd(6), is_odd(5), is_odd(9), is_odd(0)  # False, False, True, True, False"
   ]
  },
  {
   "cell_type": "markdown",
   "metadata": {
    "id": "NTdKQeAYSBCi"
   },
   "source": [
    "### Exercise 6: Leap Year\n",
    "Write a function that takes a year as input and checks if it's a leap year. Print the result.\n",
    "\n",
    "A year is a leap year if it satisfies the following criteria:\n",
    "\n",
    "> Every year that is exactly divisible by four is a leap year, except for years that are exactly divisible by 100, but these centurial years are leap years if they are exactly divisible by 400. For example, the years 1700, 1800, and 1900 are not leap years, but the years 1600 and 2000 are.\n",
    "\n",
    "(Source: Wikipedia)\n",
    "\n"
   ]
  },
  {
   "cell_type": "code",
   "execution_count": null,
   "metadata": {
    "id": "Nju7VcGZT0e5"
   },
   "outputs": [],
   "source": [
    "# Code for Exercise 6\n",
    "def leap_year(year: int) -> bool:\n",
    "    if not year % 400:\n",
    "        return True\n",
    "    if not year % 100:\n",
    "        return False\n",
    "    return not year % 4\n",
    "\n",
    "\n",
    "# True, False, False, True\n",
    "leap_year(2024), leap_year(2025), leap_year(1700), leap_year(2000)"
   ]
  },
  {
   "cell_type": "markdown",
   "metadata": {
    "id": "Go73aWCgdDU4"
   },
   "source": [
    "#### Optional Extra\n",
    "Here's another implementation of the `is_vowel` function that uses lists instead of `or`, and also checks for accidental wrong inputs. See if you can figure out how it works!"
   ]
  },
  {
   "cell_type": "code",
   "execution_count": null,
   "metadata": {
    "colab": {
     "base_uri": "https://localhost:8080/"
    },
    "executionInfo": {
     "elapsed": 312,
     "status": "ok",
     "timestamp": 1699413406461,
     "user": {
      "displayName": "Peter Bruce Gale",
      "userId": "02067519220349755138"
     },
     "user_tz": -480
    },
    "id": "s9cLBCs96nwk",
    "outputId": "378a5796-de9c-48f4-bed9-2cfffda22205"
   },
   "outputs": [],
   "source": [
    "def is_vowel(letter):\n",
    "    vowels = [\"a\", \"e\", \"i\", \"o\", \"u\"]\n",
    "    if len(letter) != 1:\n",
    "        print(\"Only enter one alphabet at a time!\")\n",
    "        return\n",
    "\n",
    "    input = letter.lower()  # turn uppercase letters into lowercase letters\n",
    "    if (letter in vowels) == True:\n",
    "        return True\n",
    "    else:\n",
    "        return False\n",
    "\n",
    "\n",
    "print(is_vowel(\"a\"))\n",
    "print(is_vowel(\"b\"))\n",
    "print(is_vowel(\"ab\"))\n",
    "print(is_vowel(\"1\"))"
   ]
  },
  {
   "cell_type": "markdown",
   "metadata": {
    "id": "96W5RfOfC_iA"
   },
   "source": [
    "## 1.5 Loops (For, While)\n",
    "Loops in programming allow us to execute a block of code repeatedly. They are essential for automating repetitive tasks and processing large amounts of data. Python supports two main types of loops: `for` loops and `while` loops."
   ]
  },
  {
   "cell_type": "markdown",
   "metadata": {
    "id": "VC-2MfMwYK5Q"
   },
   "source": [
    "### `for` Loops\n",
    "A `for` loop is used to iterate over a sequence (such as a list or range) or other iterable objects.\n",
    "```\n",
    "for i in [\"1st item\", \"2nd item\", \"3rd item\", \"4th item\"]:\n",
    "    print(i)\n",
    "```\n",
    "Note the keyword `in` and the colon `:` at the end!\n",
    "\n",
    "The `range()` function creates a special type of iterable that is often used in `for` loops. Try running the code below!"
   ]
  },
  {
   "cell_type": "code",
   "execution_count": null,
   "metadata": {
    "colab": {
     "base_uri": "https://localhost:8080/"
    },
    "executionInfo": {
     "elapsed": 8,
     "status": "ok",
     "timestamp": 1700108913956,
     "user": {
      "displayName": "Peter Bruce Gale",
      "userId": "02067519220349755138"
     },
     "user_tz": -480
    },
    "id": "SxaecFTbYi04",
    "outputId": "5dfaa7b0-80c6-48d9-bdbc-0b842f02d793"
   },
   "outputs": [],
   "source": [
    "# Demonstration of the range() function. Change the number in the bracket and see what you get!\n",
    "for i in range(5):\n",
    "    print(i)"
   ]
  },
  {
   "cell_type": "markdown",
   "metadata": {
    "id": "be74rEANYydR"
   },
   "source": [
    "If you wanted to start from 1 and end at 5, you could do it two ways. Either add a `+1` to the print:\n",
    "```\n",
    "for i in range(5):\n",
    "  print(i+1)\n",
    "```\n",
    "Or specify the start and end(+1) values in the `range` function:\n",
    "```\n",
    "for i in range(1, 6):\n",
    "  print(i)\n",
    "```\n",
    "Here's another example of a `for` loop in a function. This function sums up the squares of numbers from 1 to `n`:\n",
    "```\n",
    "def sum_squares(n):\n",
    "  sum = 0                  # Define a variable to store the answer\n",
    "  for i in range(1, n+1):\n",
    "    sum = sum + i ** 2     # the new value of sum is the previous one + the new term\n",
    "  return sum\n",
    "```"
   ]
  },
  {
   "cell_type": "markdown",
   "metadata": {
    "id": "Xg3TOWN7Zdcu"
   },
   "source": [
    "### Exercise 7: Sum of natural numbers\n",
    "Write a function that takes a positive integer `n`,  sums the natural numbers from 1 to `n`, and prints the result."
   ]
  },
  {
   "cell_type": "code",
   "execution_count": null,
   "metadata": {
    "id": "tpLSKOqjZ-mV"
   },
   "outputs": [],
   "source": [
    "# Code for Exercise 7\n",
    "def sum_ints(n: int) -> int:\n",
    "    return n * (n + 1) // 2"
   ]
  },
  {
   "cell_type": "markdown",
   "metadata": {
    "id": "QTZD3INhavs8"
   },
   "source": [
    "### `while` Loops\n",
    "A `while` loop is used to execute a block of code as long as a specified condition is true.\n",
    "```\n",
    "count = 0\n",
    "while count < 5:\n",
    "    print(\"Count:\", count)\n",
    "    count = count + 1\n",
    "```\n",
    "Once the condition after the `while` keyword is no longer true, the loop stops.\n",
    "\n",
    "Here's another example where a `while` loop is used to calculate the factorial of a number. Remember that a factorial is defined as $n! = n(n-1)(n-2)...(3)(2)(1)$\n",
    "```\n",
    "def factorial(n):\n",
    "  m = n                         # assign a variable to represent the current integer\n",
    "  factorial = m\n",
    "  while m > 1:\n",
    "    m = m - 1                   # find the next integer\n",
    "    factorial = factorial * m   # multiply by the next integer\n",
    "  return factorial\n",
    "```\n"
   ]
  },
  {
   "cell_type": "markdown",
   "metadata": {
    "id": "wOAtL4t-cl2B"
   },
   "source": [
    "### Exercise 8: Prime or not prime?\n",
    "Create a program that prompts the user for a number and checks if it's a prime number. Print the result."
   ]
  },
  {
   "cell_type": "code",
   "execution_count": null,
   "metadata": {
    "id": "1h45RlU6cpBR"
   },
   "outputs": [],
   "source": [
    "### Code for Exercise 8\n",
    "def prime(n: int) -> bool:\n",
    "    for i in range(2, int(n**0.5) + 1):\n",
    "        if not n % i:\n",
    "            return False\n",
    "    return True\n",
    "\n",
    "\n",
    "# True, False, False, True\n",
    "prime(3), prime(4), prime(70), prime(263)"
   ]
  },
  {
   "cell_type": "markdown",
   "metadata": {
    "id": "H7stCkvUMbeq"
   },
   "source": [
    "## 1.6 Exceptions and how to handle them\n",
    "Sometimes, our program will throw errors - you've probably encountered one already by now! Exceptions can come about when something goes wrong in the code. Some common ones are:\n",
    "\n",
    "*  `SyntaxError`:  This happens when Python can't understand your code because you've made a mistake in the syntax. E.g.: forgetting to close parentheses or using a keyword as a variable name.\n",
    "*  `NameError`: This occurs when you try to use a variable or a function that hasn't been defined yet. Maybe you misspelled the name or forgot to define it earlier in your code.\n",
    "*  `TypeError`: This happens when you try to perform an operation on data of the wrong type. For example, trying to add a number and a string together can cause a TypeError.\n",
    "*  `ValueError`: This occurs when you try to use a value that is of the correct type but is inappropriate for the operation. For instance, trying to convert a string that doesn't represent a number into an integer can cause a ValueError.\n",
    "*  `ZeroDivisionError`: As the name suggests, this occurs when you try to divide a number by zero. Division by zero is not allowed in mathematics, so Python raises this exception to let you know that it can't perform the operation.\n",
    "\n",
    "Python will stop code execution and displace a Traceback that explains where in the code the error occurred and why. (Further explanation [here](https://realpython.com/python-traceback/))\n",
    "\n",
    "If you foresee errors occurring (e.g. your data has a mixture of types, some of which may require special treatment), you can handle them using a `try`/`except` block, so that the rest of your program can continue executing:\n",
    "\n",
    "```\n",
    "num = int(input(\"Enter a number: \"))\n",
    "try:\n",
    "  result = 10 / num\n",
    "  print(\"Result:\", result)\n",
    "except:\n",
    "  print(\"Something went wrong. Try something else\")\n",
    "```\n",
    "You can even specify different actions depending on the different types of errors:\n",
    "```\n",
    "num = int(input(\"Enter a number: \"))\n",
    "try:\n",
    "  result = 10 / num\n",
    "  print(\"Result:\", result)\n",
    "except ValueError:\n",
    "  print(\"Please enter a valid number\")\n",
    "except ZeroDivisionError:\n",
    "  print(\"Please enter a non-zero number\")\n",
    "```\n",
    "Try it out here!"
   ]
  },
  {
   "cell_type": "code",
   "execution_count": null,
   "metadata": {
    "id": "71j6wCMnMgp6"
   },
   "outputs": [],
   "source": [
    "num = int(input(\"Enter a number: \"))\n",
    "try:\n",
    "    result = 10 / num\n",
    "    print(\"Result:\", result)\n",
    "except:\n",
    "    print(\"Something went wrong. Try something else\")"
   ]
  },
  {
   "cell_type": "markdown",
   "metadata": {
    "id": "r3R5i5Iwq6y7"
   },
   "source": [
    "## Homework for Session 1\n",
    "Now that you're done with the material, try these for additional practice before we meet next session! Practice will help you become more confident at coding, and it will feel more intuitive.\n",
    "\n",
    "Do these exercises in another Google Colab notebook, or in separate Python files. There is more than one way to solve them - compare your answers with your friends!\n",
    "\n",
    "If you want more practice, use the exercises in _The Python Workbook_."
   ]
  },
  {
   "cell_type": "markdown",
   "metadata": {},
   "source": [
    "#### <u>Question 1: Miles to Kilometres</u>\n",
    "Write a function called `to_km` that takes in a variable `miles` and returns the equivalent in kilometres. 1 mile = 1.60934 km."
   ]
  },
  {
   "cell_type": "code",
   "execution_count": null,
   "metadata": {},
   "outputs": [],
   "source": [
    "# Question 1: Miles to Kilometres\n",
    "\n",
    "\n",
    "def to_km(miles: float) -> float:\n",
    "    conversion_factor = 1.60934\n",
    "    return conversion_factor * miles"
   ]
  },
  {
   "cell_type": "markdown",
   "metadata": {},
   "source": [
    "#### <u>Question 2: Child, Teenager or Adult?</u>\n",
    "Write a Python program that prompts the user for their age. If the age is less than 13, print \"You are a child\". If the age is between 13 and 18, print \"You are a teenager\". Otherwise, print \"You are an adult\"."
   ]
  },
  {
   "cell_type": "code",
   "execution_count": null,
   "metadata": {},
   "outputs": [],
   "source": [
    "# Question 2: Child, Teenager or Adult?\n",
    "userage = int(input(\"what's your age? \"))\n",
    "\n",
    "\n",
    "def check_age(age: int) -> str:\n",
    "    if age < 13:\n",
    "        return \"child\"\n",
    "    elif age <= 18:\n",
    "        return \"teenager\"\n",
    "    return \"adult\"\n",
    "\n",
    "\n",
    "try:\n",
    "    check_age(userage)\n",
    "except:\n",
    "    print(\"something went wrong. try again later.\")"
   ]
  },
  {
   "cell_type": "markdown",
   "metadata": {},
   "source": [
    "#### <u>Question 3: The quick brown fox</u>\n",
    "You are given the following list:\n",
    "```\n",
    "saying = [\"The\", \"quick\", \"brown\", \"fox\", \"jumped\", \"over\", \"the\", \"lazy\", \"dog.\"]\n",
    "```\n",
    "(i) Obtain the element containing \"jumped\".\n",
    "\n",
    "(ii) Join the strings together, adding spaces, to get the original sentence in a single string (i.e. \"The quick brown fox jumped over the lazy dog.\"). Print this.\n",
    "\n",
    "(iii) Replace \"fox\" with \"elephant\", and repeat (ii).\n",
    "\n",
    "(iv) Remove \"quick\" and repeat (ii)."
   ]
  },
  {
   "cell_type": "code",
   "execution_count": null,
   "metadata": {},
   "outputs": [],
   "source": [
    "#### <u>Question 3: The quick brown fox</u>\n",
    "saying = [\"The\", \"quick\", \"brown\", \"fox\", \"jumped\", \"over\", \"the\", \"lazy\", \"dog.\"]\n",
    "\n",
    "print(saying.index(\"jumped\"))\n",
    "print(\" \".join(saying))\n",
    "\n",
    "saying[saying.index(\"fox\")] = \"elephant\"\n",
    "print(\" \".join(saying))\n",
    "\n",
    "saying.remove(\"quick\")\n",
    "print(\" \".join(saying))"
   ]
  },
  {
   "cell_type": "markdown",
   "metadata": {},
   "source": [
    "#### <u>Question 4: Remove outliers</u>\n",
    "When analysing data collected as part of a science experiment it may be desirable to remove the most extreme values before performing other calculations. Write a function that takes a list of values and an non-negative integer, `n`, as its parameters, and returns a new copy of the list with the n largest elements and the n smallest elements removed. (The order of the elements in the returned list does not have to match the order of the elements in the original list.) Test the function by making a list of your own."
   ]
  },
  {
   "cell_type": "code",
   "execution_count": null,
   "metadata": {},
   "outputs": [],
   "source": [
    "# Question 4: Remove outliers\n",
    "def remove_outliers(arr: list[float], n: int) -> list[float]:\n",
    "    while n > 0:\n",
    "        arr.remove(max(arr))\n",
    "        arr.remove(min(arr))\n",
    "        n -= 1\n",
    "    return arr\n",
    "\n",
    "\n",
    "remove_outliers([3.14, 7.28, 1.61, 9.81, 2.71, 6.63, 0.57, 4.67, 8.31, 5.55], 2)"
   ]
  },
  {
   "cell_type": "markdown",
   "metadata": {},
   "source": [
    "#### <u>Question 5: Remove duplicates</u>\n",
    "Write a function that takes a list of strings, e.g. `[\"apple\", \"banana\", \"cucumber\", \"apple\", \"durian\"]` and returns the list without duplicates. Where they are duplicates, the first instance should be kept, and all others removed. E.g. for the list given, the output should be `[\"apple\", \"banana\", \"cucumber\", \"durian\"]`"
   ]
  },
  {
   "cell_type": "code",
   "execution_count": null,
   "metadata": {},
   "outputs": [],
   "source": [
    "# Question 5: Remove duplicates\n",
    "def remove_duplicates(arr: list[str]) -> list[str]:\n",
    "    freqlist = {x: arr.count(x) for x in arr}\n",
    "    return list(freqlist.keys())\n",
    "\n",
    "remove_duplicates([\"apple\", \"banana\", \"cucumber\", \"apple\", \"durian\"])"
   ]
  },
  {
   "cell_type": "markdown",
   "metadata": {},
   "source": [
    "#### <u>Question 6: Quadratic equation solver</u>\n",
    "The roots of the polynomial $ax^2 + bx + c = 0$ are given by the quadratic formula:\n",
    "$$ x=\\frac{-b \\pm \\sqrt{b^2-4ac}}{2a} $$\n",
    "\n",
    "Write a function called `quad_solver` to implement this. It should take the coefficients `a`, `b`, and `c` as inputs, and output the roots in a list (e.g. `[x1, x2]`). If the equation has no real roots (i.e. $b^2-4ac < 0$), print an error and return `None`.\n",
    "\n",
    "Try out a few test cases, and check if your answers are correct using a scientific calculator!"
   ]
  },
  {
   "cell_type": "code",
   "execution_count": null,
   "metadata": {},
   "outputs": [],
   "source": [
    "# Question 6: Quadratic equation solver\n",
    "def quad_solver(a: float, b: float, c: float):\n",
    "    discriminant = b * b - 4 * a * c\n",
    "    if discriminant < 0:\n",
    "        print(\"no real roots.\")\n",
    "        return None\n",
    "    return [(-b + discriminant**0.5) / (2 * a), (-b - discriminant**0.5) / (2 * a)]"
   ]
  },
  {
   "cell_type": "markdown",
   "metadata": {},
   "source": [
    "#### <u>Question 7: HCF and LCM</u>\n",
    "Write a function called `hcf(a,b)` that returns the Highest Common Factor of two integers `a` and `b`.\n",
    "\n",
    "Write another function called `lcm(a,b)` that returns the Lowest Common Multiple of two integers `a` and `b`."
   ]
  },
  {
   "cell_type": "code",
   "execution_count": null,
   "metadata": {},
   "outputs": [],
   "source": [
    "# Question 7: HCF and LCM\n",
    "def hcf(a: int, b: int) -> int:\n",
    "    if a == 0 or b == 0:\n",
    "        return 0\n",
    "    if a == b:\n",
    "        return a\n",
    "    return hcf(max(a, b) - min(a, b), min(a, b))\n",
    "\n",
    "\n",
    "def lcm(a: int, b: int) -> int:\n",
    "    return a * b // hcf(a, b)\n",
    "\n",
    "hcf(57, 996), lcm(57, 996)"
   ]
  },
  {
   "cell_type": "markdown",
   "metadata": {},
   "source": [
    "#### <u>Question 8: Unique characters</u>\n",
    "Create a program that determines and displays the number of unique characters in a string entered by the user. For example, `\"Hello, World!\"` has 10 unique characters while `\"zzz\"` has only one unique character (uppercase and lowercase characters are different, and punctuation marks and spaces are included in the count). Use a dictionary to solve this problem."
   ]
  },
  {
   "cell_type": "code",
   "execution_count": null,
   "metadata": {},
   "outputs": [],
   "source": [
    "# Question 8: Unique characters\n",
    "def unique_chars(s: str) -> int:\n",
    "    return len(list(set(list(s))))\n",
    "\n",
    "unique_chars(\"aaaae\") # 2"
   ]
  },
  {
   "cell_type": "markdown",
   "metadata": {},
   "source": [
    "#### <u>Question 9: Scrabble scores</u>\n",
    "In a game of Scrabble, each letter has points associated with it. The total score of a word is the sum of the scores of its letters. More common letters are worth fewer points while less common letters are worth more points. The points associated with each letter are shown below:\n",
    "\n",
    "| Points | Alphabets |\n",
    "|--------|-----------|\n",
    "|1|A, E, I, L, N, O, R, S, T and U|\n",
    "|2|D and G|\n",
    "|3|B, C, M and P|\n",
    "|4|F, H, V, W and Y|\n",
    "|5|K|\n",
    "|6|J and X|\n",
    "|7|Q and Z|\n",
    "\n",
    "Write a function that computes the Scrabble score for a word. Create a dictionary that maps letters to point values. Then use the dictionary to compute the score.\n",
    "\n",
    "(A real Scrabble board includes some squares that multiply the value of a letter or the value of an entire word. We will ignore these squares in this exercise.)\n"
   ]
  },
  {
   "cell_type": "code",
   "execution_count": null,
   "metadata": {},
   "outputs": [],
   "source": [
    "# Question 9: Scrabble\n",
    "scores = [1, 3, 3, 2, 1, 4, 2, 4, 1, 6, 5, 1, 3, 1, 1, 3, 7, 1, 1, 1, 1, 4, 4, 6, 4, 7]\n",
    "def scrabble_score(s: str):\n",
    "    if not s.isalpha():\n",
    "        return None\n",
    "    s = s.upper() \n",
    "    return sum(scores[ord(char)-ord(\"A\")] for char in s)"
   ]
  }
 ],
 "metadata": {
  "colab": {
   "authorship_tag": "ABX9TyOzpOX5RHVypbYzSjM81jPT",
   "provenance": [],
   "toc_visible": true
  },
  "kernelspec": {
   "display_name": "Python 3",
   "name": "python3"
  },
  "language_info": {
   "codemirror_mode": {
    "name": "ipython",
    "version": 3
   },
   "file_extension": ".py",
   "mimetype": "text/x-python",
   "name": "python",
   "nbconvert_exporter": "python",
   "pygments_lexer": "ipython3",
   "version": "3.12.3"
  }
 },
 "nbformat": 4,
 "nbformat_minor": 0
}
